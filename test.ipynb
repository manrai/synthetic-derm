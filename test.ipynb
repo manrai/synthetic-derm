{
 "cells": [
  {
   "cell_type": "code",
   "execution_count": 4,
   "metadata": {},
   "outputs": [],
   "source": [
    "import os"
   ]
  },
  {
   "cell_type": "code",
   "execution_count": 8,
   "metadata": {},
   "outputs": [],
   "source": [
    "#path = \"/n/data1/hms/dbmi/manrai/derm/synderm2024/complete_new/psoriasis_pretrained_text_to_image_text_to_image\"\n",
    "path = \"/n/data1/hms/dbmi/manrai/derm/synderm2024/complete_new/psoriasis_pretrained_inpaint_inpaint\""
   ]
  },
  {
   "cell_type": "code",
   "execution_count": 9,
   "metadata": {},
   "outputs": [],
   "source": [
    "def count_png_files(directory_path):\n",
    "    \"\"\"\n",
    "    Count the total number of PNG files in a directory and its subdirectories\n",
    "    \n",
    "    Args:\n",
    "        directory_path (str): Path to the directory to search\n",
    "        \n",
    "    Returns:\n",
    "        int: Total number of PNG files found\n",
    "    \"\"\"\n",
    "    total_png = 0\n",
    "    for root, dirs, files in os.walk(directory_path, followlinks=True):\n",
    "        png_files = [f for f in files if f.endswith('.png')]\n",
    "        total_png += len(png_files)\n",
    "    return total_png\n",
    "\n"
   ]
  },
  {
   "cell_type": "code",
   "execution_count": 10,
   "metadata": {},
   "outputs": [
    {
     "name": "stdout",
     "output_type": "stream",
     "text": [
      "5840\n"
     ]
    }
   ],
   "source": [
    "print(count_png_files(path))"
   ]
  },
  {
   "cell_type": "code",
   "execution_count": null,
   "metadata": {},
   "outputs": [],
   "source": []
  }
 ],
 "metadata": {
  "kernelspec": {
   "display_name": ".venv",
   "language": "python",
   "name": "python3"
  },
  "language_info": {
   "codemirror_mode": {
    "name": "ipython",
    "version": 3
   },
   "file_extension": ".py",
   "mimetype": "text/x-python",
   "name": "python",
   "nbconvert_exporter": "python",
   "pygments_lexer": "ipython3",
   "version": "3.10.11"
  }
 },
 "nbformat": 4,
 "nbformat_minor": 2
}
