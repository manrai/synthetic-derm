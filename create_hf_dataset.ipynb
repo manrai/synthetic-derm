{
 "cells": [
  {
   "cell_type": "code",
   "execution_count": null,
   "metadata": {},
   "outputs": [],
   "source": [
    "# Three generation types:\n",
    "#   In-then-output\n",
    "#   Inpaint\n",
    "#   Text-to-Image\n",
    "\n",
    "# Make a list of where we think all the synthetic Fitzpatrick data is stored\n",
    "\n",
    "# all-synthetic-images\n",
    "#   inpaint -> ../generations-pretrained/inpaint\n",
    "#   inpaint-finetuned\n",
    "#   text-to-image -> ../generations-pretrained/text-to-image\n",
    "#   text-to-image-finetuned\n",
    "\n",
    "# all_generations (contains links to images from generations (fine-tuned) and generations-pretrained (pretrained (pretrained))\n",
    "#   finetune-inpaint -> ../generations/inpaint\n",
    "#   finetune-text-to-image -> ../generations/text-to-image\n",
    "#   pretrained-inpaint -> ../generations-pretrained/inpaint\n",
    "#   pretrained-text-to-image -> ../generations-pretrained/text-to-image\n",
    "\n",
    "\n",
    "\n",
    "# generations-more\n",
    "#   text-to-image\n",
    "\n",
    "# generations-lots-more\n",
    "#   text-to-image\n",
    "\n"
   ]
  },
  {
   "cell_type": "code",
   "execution_count": null,
   "metadata": {},
   "outputs": [],
   "source": [
    "# Datasets to include from Luke:\n",
    "# generations-more\n",
    "# generations-lots-more\n",
    "# all-generations\n",
    "# and then from nature-revisions at least\n",
    "# fitz_ddi_crossover_full_fitz\n",
    "# new_fitz_diseases"
   ]
  }
 ],
 "metadata": {
  "language_info": {
   "name": "python"
  }
 },
 "nbformat": 4,
 "nbformat_minor": 2
}
