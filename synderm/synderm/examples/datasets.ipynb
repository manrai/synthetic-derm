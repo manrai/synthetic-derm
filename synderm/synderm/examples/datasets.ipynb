{
 "cells": [
  {
   "cell_type": "code",
   "execution_count": 2,
   "metadata": {},
   "outputs": [],
   "source": [
    "\n",
    "import sys\n",
    "\n",
    "# Add the parent directory to the Python path\n",
    "sys.path.append(\"synderm/synderm/\")\n",
    "\n",
    "from torch.utils.data import Dataset\n",
    "from torchvision import transforms\n",
    "from pathlib import Path\n",
    "from PIL import Image\n",
    "import pandas as pd\n",
    "import os"
   ]
  },
  {
   "cell_type": "code",
   "execution_count": 3,
   "metadata": {},
   "outputs": [],
   "source": [
    "class CustomDataset(Dataset):\n",
    "    def __init__(self, dataset_dir, split=\"train\"):\n",
    "        self.dataset_dir = Path(dataset_dir)\n",
    "        self.image_paths = []\n",
    "        self.labels = []\n",
    "        self.split = split\n",
    "\n",
    "        # Walk through class folders\n",
    "        data_dir = self.dataset_dir / self.split\n",
    "        for class_name in os.listdir(data_dir):\n",
    "            class_dir = data_dir / class_name\n",
    "            if not class_dir.is_dir():\n",
    "                continue\n",
    "                \n",
    "            # Get all png images in this class folder\n",
    "            for img_name in os.listdir(class_dir):\n",
    "                if img_name.lower().endswith('.png'):\n",
    "                    self.image_paths.append(class_dir / img_name)\n",
    "                    self.labels.append(class_name)\n",
    "\n",
    "    def __len__(self):\n",
    "        return len(self.image_paths)\n",
    "\n",
    "    def __getitem__(self, idx):\n",
    "        image_path = self.image_paths[idx]\n",
    "        label = self.labels[idx]\n",
    "        \n",
    "        # Load and convert image to RGB\n",
    "        image = Image.open(image_path).convert('RGB')\n",
    "        image_name = image_path.stem\n",
    "\n",
    "        return {\"id\": image_name, \"image\": image, \"label\": label}"
   ]
  },
  {
   "cell_type": "code",
   "execution_count": 18,
   "metadata": {},
   "outputs": [],
   "source": [
    "class SimpleFitzDataset(Dataset):\n",
    "    def __init__(self, dataset_dir, fitz_path='fitzpatrick17k_10label_clean_training.csv'):\n",
    "        self.class_names = [\n",
    "            \"allergic-contact-dermatitis\",\n",
    "            \"basal-cell-carcinoma\", \n",
    "            \"folliculitis\",\n",
    "            \"lichen-planus\",\n",
    "            \"lupus-erythematosus\",\n",
    "            \"neutrophilic-dermatoses\",\n",
    "            \"photodermatoses\",\n",
    "            \"psoriasis\",\n",
    "            \"sarcoidosis\",\n",
    "            \"squamous-cell-carcinoma\",\n",
    "        ]\n",
    "\n",
    "        self.dataset_dir = Path(dataset_dir)\n",
    "\n",
    "        self.data_images_root = self.dataset_dir / 'finalfitz17k'\n",
    "        csv_file = self.dataset_dir / fitz_path\n",
    "        print(f'Using csv file: {csv_file}')\n",
    "\n",
    "        self.data_df = pd.read_csv(csv_file)\n",
    "\n",
    "        # Filter to only include entries with labels in class_names\n",
    "        self.data_df = self.data_df[self.data_df['label'].isin(self.class_names)]\n",
    "        self.num_instance_images = len(self.data_df)\n",
    "\n",
    "    def __len__(self):\n",
    "        return self.data_df.shape[0]\n",
    "\n",
    "    def __getitem__(self, index):\n",
    "        example = {}\n",
    "\n",
    "        entry = self.data_df.iloc[index]\n",
    "        example['id'] = entry['md5hash']\n",
    "        example['label'] = entry['label']\n",
    "\n",
    "        filename = f\"{entry['md5hash']}.jpg\"\n",
    "\n",
    "        instance_image_path = self.data_images_root / filename\n",
    "        example[\"image\"] = Image.open(instance_image_path).convert('RGB')\n",
    "\n",
    "        return example"
   ]
  },
  {
   "cell_type": "code",
   "execution_count": 19,
   "metadata": {},
   "outputs": [],
   "source": [
    "test = CustomDataset(dataset_dir=\"sample_dataset\", split=\"val\")"
   ]
  },
  {
   "cell_type": "code",
   "execution_count": 21,
   "metadata": {},
   "outputs": [
    {
     "name": "stdout",
     "output_type": "stream",
     "text": [
      "Using csv file: /n/data1/hms/dbmi/manrai/derm/Fitzpatrick17k/fitzpatrick17k_10label_clean_training.csv\n"
     ]
    }
   ],
   "source": [
    "test_fitz = SimpleFitzDataset(dataset_dir=\"/n/data1/hms/dbmi/manrai/derm/Fitzpatrick17k\")"
   ]
  },
  {
   "cell_type": "code",
   "execution_count": 22,
   "metadata": {},
   "outputs": [
    {
     "name": "stdout",
     "output_type": "stream",
     "text": [
      "Image ID: 0001, Image Label: allergic-contact-dermatitis\n"
     ]
    },
    {
     "data": {
      "image/png": "[encoded data removed]",
      "text/plain": [
       "<Figure size 100x100 with 1 Axes>"
      ]
     },
     "metadata": {},
     "output_type": "display_data"
    }
   ],
   "source": [
    "import matplotlib.pyplot as plt\n",
    "\n",
    "for item in test:\n",
    "    print(f\"Image ID: {item['id']}, Image Label: {item['label']}\")\n",
    "    img = item[\"image\"]\n",
    "    plt.figure(figsize=(1, 1))\n",
    "    plt.imshow(img)\n",
    "    plt.axis('off')\n",
    "    plt.show()\n",
    "    break"
   ]
  },
  {
   "cell_type": "code",
   "execution_count": 25,
   "metadata": {},
   "outputs": [
    {
     "name": "stdout",
     "output_type": "stream",
     "text": [
      "Image 2 - ID: a39ec3b1f22c08a421fa20535e037bba, Label: psoriasis\n"
     ]
    },
    {
     "data": {
      "image/png": "[encoded data removed]",
      "text/plain": [
       "<Figure size 100x100 with 1 Axes>"
      ]
     },
     "metadata": {},
     "output_type": "display_data"
    }
   ],
   "source": [
    "import matplotlib.pyplot as plt\n",
    "# Get image by index\n",
    "idx = 2\n",
    "item = test_fitz[idx]\n",
    "print(f\"Image {idx} - ID: {item['id']}, Label: {item['label']}\")\n",
    "img = item[\"image\"]\n",
    "plt.figure(figsize=(1, 1))\n",
    "plt.imshow(img)\n",
    "plt.axis('off')\n",
    "plt.show()"
   ]
  },
  {
   "cell_type": "code",
   "execution_count": 17,
   "metadata": {},
   "outputs": [
    {
     "data": {
      "text/plain": [
       "1333"
      ]
     },
     "execution_count": 17,
     "metadata": {},
     "output_type": "execute_result"
    }
   ],
   "source": [
    "len(test_fitz)"
   ]
  },
  {
   "cell_type": "code",
   "execution_count": 41,
   "metadata": {},
   "outputs": [
    {
     "data": {
      "text/plain": [
       "0"
      ]
     },
     "execution_count": 41,
     "metadata": {},
     "output_type": "execute_result"
    }
   ],
   "source": [
    "len(test_fitz.labels)"
   ]
  },
  {
   "cell_type": "code",
   "execution_count": 24,
   "metadata": {},
   "outputs": [
    {
     "data": {
      "text/plain": [
       "320"
      ]
     },
     "execution_count": 24,
     "metadata": {},
     "output_type": "execute_result"
    }
   ],
   "source": [
    "len(test.image_paths)"
   ]
  },
  {
   "cell_type": "code",
   "execution_count": null,
   "metadata": {},
   "outputs": [],
   "source": []
  }
 ],
 "metadata": {
  "kernelspec": {
   "display_name": ".venv",
   "language": "python",
   "name": "python3"
  },
  "language_info": {
   "codemirror_mode": {
    "name": "ipython",
    "version": 3
   },
   "file_extension": ".py",
   "mimetype": "text/x-python",
   "name": "python",
   "nbconvert_exporter": "python",
   "pygments_lexer": "ipython3",
   "version": "3.10.11"
  }
 },
 "nbformat": 4,
 "nbformat_minor": 2
}
